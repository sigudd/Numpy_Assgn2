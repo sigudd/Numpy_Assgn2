{
 "cells": [
  {
   "cell_type": "code",
   "execution_count": 1,
   "metadata": {},
   "outputs": [
    {
     "name": "stdout",
     "output_type": "stream",
     "text": [
      "[25.0, 35.0, 45.0, 55.0, 65.0, 75.0, 85.0]\n"
     ]
    }
   ],
   "source": [
    "import numpy as np\n",
    "def movingAverage(inputArr,window):\n",
    "    Avg = []\n",
    "    for i in range(0,len(inputArr)-window+1):\n",
    "        sum = 0\n",
    "        for j in range (i,i+window):\n",
    "            sum = sum + inputArr[j]\n",
    "        Avg.append(sum/window)\n",
    "    return Avg\n",
    "\n",
    "inputArr = np.arange(10,101,10)\n",
    "#print(inputArr)\n",
    "print(movingAverage(inputArr,4))"
   ]
  },
  {
   "cell_type": "code",
   "execution_count": null,
   "metadata": {},
   "outputs": [],
   "source": []
  }
 ],
 "metadata": {
  "kernelspec": {
   "display_name": "Python 3",
   "language": "python",
   "name": "python3"
  },
  "language_info": {
   "codemirror_mode": {
    "name": "ipython",
    "version": 3
   },
   "file_extension": ".py",
   "mimetype": "text/x-python",
   "name": "python",
   "nbconvert_exporter": "python",
   "pygments_lexer": "ipython3",
   "version": "3.7.0"
  }
 },
 "nbformat": 4,
 "nbformat_minor": 2
}
